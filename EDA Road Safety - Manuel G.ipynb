{
 "cells": [
  {
   "cell_type": "markdown",
   "id": "ade455b2",
   "metadata": {},
   "source": [
    "# Webscraping and Exploratory Analysis"
   ]
  },
  {
   "cell_type": "markdown",
   "id": "d19751bb",
   "metadata": {},
   "source": [
    "In this mini-project I am going to do some webscraping and exploratory analysis according to road safety data in Europe.\n",
    "\n",
    "Data is extracted from Wikipedia tables, then processed into a Pandas dataframe and finally saved into a csv file."
   ]
  },
  {
   "cell_type": "code",
   "execution_count": 1,
   "id": "b69a01e6",
   "metadata": {},
   "outputs": [],
   "source": [
    "# Libraries needed\n",
    "import urllib.request\n",
    "from bs4 import BeautifulSoup\n",
    "import matplotlib.pyplot as plt\n",
    "import pandas as pd\n",
    "import seaborn as sns\n",
    "\n",
    "# Default settings for plot sizes\n",
    "plt.rcParams[\"figure.figsize\"] = (20,20)\n"
   ]
  },
  {
   "cell_type": "code",
   "execution_count": 2,
   "id": "699332fc",
   "metadata": {},
   "outputs": [],
   "source": [
    "# The URL/web page we are going to be scraping\n",
    "url = \"https://en.wikipedia.org/wiki/Road_safety_in_Europe\""
   ]
  },
  {
   "cell_type": "code",
   "execution_count": 3,
   "id": "c79ec34a",
   "metadata": {},
   "outputs": [],
   "source": [
    "# Using urllib.request we can get the HTML as response\n",
    "page = urllib.request.urlopen(url)"
   ]
  },
  {
   "cell_type": "code",
   "execution_count": 4,
   "id": "eea631fb",
   "metadata": {},
   "outputs": [],
   "source": [
    "# Now we parse the response with BeautifulSoup\n",
    "soup = BeautifulSoup(page, \"html\")"
   ]
  },
  {
   "cell_type": "code",
   "execution_count": 5,
   "id": "ac7ee652",
   "metadata": {
    "scrolled": false
   },
   "outputs": [],
   "source": [
    "# First, we need to filter the page so we only need all tags <table>\n",
    "all_tables=soup.find_all(\"table\")"
   ]
  },
  {
   "cell_type": "code",
   "execution_count": 6,
   "id": "e27a0c15",
   "metadata": {
    "scrolled": false
   },
   "outputs": [],
   "source": [
    "#After inspecting element, I've found the CSS classes that involves the required table:\n",
    "table=soup.find_all('table', class_='wikitable sortable')"
   ]
  },
  {
   "cell_type": "code",
   "execution_count": 7,
   "id": "0a8f63d3",
   "metadata": {},
   "outputs": [],
   "source": [
    "#I will fill arrays with all data from table. I will go through all the table\n",
    "# and for each row (<td> in HTML table) I split each line and insert the element into\n",
    "# correspondent array\n",
    "\n",
    "country=[]\n",
    "area=[]\n",
    "population=[]\n",
    "GDP=[]\n",
    "population_density=[]\n",
    "vehicle_ownership=[]\n",
    "road_network_length=[]\n",
    "total_road_deaths=[]\n",
    "road_deaths_per_million=[]\n",
    "\n",
    "\n",
    "for row in table[0].findAll('tr'):\n",
    "    cells=row.findAll('td')\n",
    "    if len(cells)==11:\n",
    "        country.append(cells[0].find(text=True))\n",
    "        area.append(cells[1].find(text=True))\n",
    "        population.append(cells[2].find(text=True))\n",
    "        GDP.append(cells[3].find(text=True))\n",
    "        population_density.append(cells[4].find(text=True))\n",
    "        vehicle_ownership.append(cells[5].find(text=True))\n",
    "        road_network_length.append(cells[6].find(text=True))\n",
    "        total_road_deaths.append(cells[7].find(text=True))\n",
    "        road_deaths_per_million.append(cells[8].find(text=True))\n"
   ]
  },
  {
   "cell_type": "code",
   "execution_count": 8,
   "id": "daae105f",
   "metadata": {},
   "outputs": [],
   "source": [
    "# The table data has got \\n character, so I need to filter it out.\n",
    "# I create a method so as to apply it for each column in dataframe\n",
    "def remove_trail(array):\n",
    "    return [x[:-1] for x in array]"
   ]
  },
  {
   "cell_type": "markdown",
   "id": "de6e7f1a",
   "metadata": {},
   "source": [
    "Since there is data which does not belong to 2018, we are going to assume that effectively are"
   ]
  },
  {
   "cell_type": "code",
   "execution_count": 9,
   "id": "d3f24187",
   "metadata": {
    "scrolled": true
   },
   "outputs": [],
   "source": [
    "df=pd.DataFrame(country,columns=['Country'])\n",
    "df['Year'] = '2018'\n",
    "df['Area (thousands of km)']=remove_trail(area)\n",
    "df['Population']=remove_trail(population)\n",
    "df['GDP per capita']=remove_trail(GDP)\n",
    "df['Population density (inhabitants per km2)']=remove_trail(population_density)\n",
    "df['Vehicle ownership']= remove_trail(vehicle_ownership)\n",
    "df['Total Road Deaths']= remove_trail(total_road_deaths)\n",
    "df['Road deaths per Million Inhabitants'] = remove_trail(road_deaths_per_million)"
   ]
  },
  {
   "cell_type": "code",
   "execution_count": 10,
   "id": "7a81292c",
   "metadata": {},
   "outputs": [
    {
     "name": "stderr",
     "output_type": "stream",
     "text": [
      "<ipython-input-10-9730a51df897>:6: FutureWarning: The default value of regex will change from True to False in a future version. In addition, single character regular expressions will*not* be treated as literal strings when regex=True.\n",
      "  df['Population'] =  df['Population'].str.replace('.','')\n"
     ]
    }
   ],
   "source": [
    "# Let's order the dataframe by Road deaths per Million Inhabitants\n",
    "df = df.sort_values(by=['Road deaths per Million Inhabitants'])\n",
    "\n",
    "# Some preprocessing for commas and points. Integers won't have any symbol, and floats will be .\n",
    "df = df.apply(lambda x: x.str.replace(',',''))\n",
    "df['Population'] =  df['Population'].str.replace('.','')"
   ]
  },
  {
   "cell_type": "code",
   "execution_count": 11,
   "id": "c2935cf9",
   "metadata": {},
   "outputs": [
    {
     "data": {
      "text/html": [
       "<div>\n",
       "<style scoped>\n",
       "    .dataframe tbody tr th:only-of-type {\n",
       "        vertical-align: middle;\n",
       "    }\n",
       "\n",
       "    .dataframe tbody tr th {\n",
       "        vertical-align: top;\n",
       "    }\n",
       "\n",
       "    .dataframe thead th {\n",
       "        text-align: right;\n",
       "    }\n",
       "</style>\n",
       "<table border=\"1\" class=\"dataframe\">\n",
       "  <thead>\n",
       "    <tr style=\"text-align: right;\">\n",
       "      <th></th>\n",
       "      <th>Country</th>\n",
       "      <th>Year</th>\n",
       "      <th>Area (thousands of km)</th>\n",
       "      <th>Population</th>\n",
       "      <th>GDP per capita</th>\n",
       "      <th>Population density (inhabitants per km2)</th>\n",
       "      <th>Vehicle ownership</th>\n",
       "      <th>Total Road Deaths</th>\n",
       "      <th>Road deaths per Million Inhabitants</th>\n",
       "    </tr>\n",
       "  </thead>\n",
       "  <tbody>\n",
       "    <tr>\n",
       "      <th>27</th>\n",
       "      <td>United Kingdom</td>\n",
       "      <td>2018</td>\n",
       "      <td>248.5</td>\n",
       "      <td>66273576</td>\n",
       "      <td>32400</td>\n",
       "      <td>273</td>\n",
       "      <td>544</td>\n",
       "      <td>1825</td>\n",
       "      <td>28</td>\n",
       "    </tr>\n",
       "    <tr>\n",
       "      <th>6</th>\n",
       "      <td>Denmark</td>\n",
       "      <td>2018</td>\n",
       "      <td>42.9</td>\n",
       "      <td>5781190</td>\n",
       "      <td>47600</td>\n",
       "      <td>137</td>\n",
       "      <td>508</td>\n",
       "      <td>175</td>\n",
       "      <td>30</td>\n",
       "    </tr>\n",
       "    <tr>\n",
       "      <th>19</th>\n",
       "      <td>Netherlands</td>\n",
       "      <td>2018</td>\n",
       "      <td>41.5</td>\n",
       "      <td>17181084</td>\n",
       "      <td>41500</td>\n",
       "      <td>508</td>\n",
       "      <td>543</td>\n",
       "      <td>678</td>\n",
       "      <td>31</td>\n",
       "    </tr>\n",
       "    <tr>\n",
       "      <th>13</th>\n",
       "      <td>Ireland</td>\n",
       "      <td>2018</td>\n",
       "      <td>69.8</td>\n",
       "      <td>4830392</td>\n",
       "      <td>59400</td>\n",
       "      <td>70</td>\n",
       "      <td>525</td>\n",
       "      <td>146</td>\n",
       "      <td>31</td>\n",
       "    </tr>\n",
       "    <tr>\n",
       "      <th>26</th>\n",
       "      <td>Sweden</td>\n",
       "      <td>2018</td>\n",
       "      <td>438.6</td>\n",
       "      <td>10120242</td>\n",
       "      <td>43300</td>\n",
       "      <td>25</td>\n",
       "      <td>542</td>\n",
       "      <td>324</td>\n",
       "      <td>32</td>\n",
       "    </tr>\n",
       "    <tr>\n",
       "      <th>18</th>\n",
       "      <td>Malta</td>\n",
       "      <td>2018</td>\n",
       "      <td>0.3</td>\n",
       "      <td>475701</td>\n",
       "      <td>21600</td>\n",
       "      <td>1462</td>\n",
       "      <td>726</td>\n",
       "      <td>18</td>\n",
       "      <td>38</td>\n",
       "    </tr>\n",
       "    <tr>\n",
       "      <th>25</th>\n",
       "      <td>Spain</td>\n",
       "      <td>2018</td>\n",
       "      <td>506.0</td>\n",
       "      <td>46658447</td>\n",
       "      <td>25000</td>\n",
       "      <td>93</td>\n",
       "      <td>611</td>\n",
       "      <td>1806</td>\n",
       "      <td>39</td>\n",
       "    </tr>\n",
       "    <tr>\n",
       "      <th>10</th>\n",
       "      <td>Germany</td>\n",
       "      <td>2018</td>\n",
       "      <td>357.3</td>\n",
       "      <td>82792351</td>\n",
       "      <td>35900</td>\n",
       "      <td>237</td>\n",
       "      <td>610</td>\n",
       "      <td>3177</td>\n",
       "      <td>39</td>\n",
       "    </tr>\n",
       "    <tr>\n",
       "      <th>8</th>\n",
       "      <td>Finland</td>\n",
       "      <td>2018</td>\n",
       "      <td>338.4</td>\n",
       "      <td>5513130</td>\n",
       "      <td>36600</td>\n",
       "      <td>18</td>\n",
       "      <td>732</td>\n",
       "      <td>225</td>\n",
       "      <td>43</td>\n",
       "    </tr>\n",
       "    <tr>\n",
       "      <th>24</th>\n",
       "      <td>Slovenia</td>\n",
       "      <td>2018</td>\n",
       "      <td>20.3</td>\n",
       "      <td>2066880</td>\n",
       "      <td>20200</td>\n",
       "      <td>103</td>\n",
       "      <td>587</td>\n",
       "      <td>91</td>\n",
       "      <td>44</td>\n",
       "    </tr>\n",
       "    <tr>\n",
       "      <th>0</th>\n",
       "      <td>Austria</td>\n",
       "      <td>2018</td>\n",
       "      <td>83.9</td>\n",
       "      <td>8822267</td>\n",
       "      <td>38000</td>\n",
       "      <td>107</td>\n",
       "      <td>665</td>\n",
       "      <td>409</td>\n",
       "      <td>45</td>\n",
       "    </tr>\n",
       "    <tr>\n",
       "      <th>23</th>\n",
       "      <td>Slovakia</td>\n",
       "      <td>2018</td>\n",
       "      <td>49.0</td>\n",
       "      <td>5443120</td>\n",
       "      <td>15600</td>\n",
       "      <td>113</td>\n",
       "      <td>455</td>\n",
       "      <td>229</td>\n",
       "      <td>46</td>\n",
       "    </tr>\n",
       "    <tr>\n",
       "      <th>9</th>\n",
       "      <td>France</td>\n",
       "      <td>2018</td>\n",
       "      <td>632.8</td>\n",
       "      <td>66926166</td>\n",
       "      <td>32800</td>\n",
       "      <td>123</td>\n",
       "      <td>590</td>\n",
       "      <td>3265</td>\n",
       "      <td>48</td>\n",
       "    </tr>\n",
       "    <tr>\n",
       "      <th>28</th>\n",
       "      <td>EU 28 Total</td>\n",
       "      <td>2018</td>\n",
       "      <td>4463.4</td>\n",
       "      <td>512379225</td>\n",
       "      <td>28200</td>\n",
       "      <td>121</td>\n",
       "      <td>587</td>\n",
       "      <td>25249</td>\n",
       "      <td>49</td>\n",
       "    </tr>\n",
       "    <tr>\n",
       "      <th>7</th>\n",
       "      <td>Estonia</td>\n",
       "      <td>2018</td>\n",
       "      <td>45.2</td>\n",
       "      <td>1319133</td>\n",
       "      <td>15100</td>\n",
       "      <td>30</td>\n",
       "      <td>620</td>\n",
       "      <td>67</td>\n",
       "      <td>51</td>\n",
       "    </tr>\n",
       "    <tr>\n",
       "      <th>1</th>\n",
       "      <td>Belgium</td>\n",
       "      <td>2018</td>\n",
       "      <td>30.5</td>\n",
       "      <td>11398589</td>\n",
       "      <td>35300</td>\n",
       "      <td>376</td>\n",
       "      <td>585</td>\n",
       "      <td>590</td>\n",
       "      <td>52</td>\n",
       "    </tr>\n",
       "    <tr>\n",
       "      <th>14</th>\n",
       "      <td>Italy</td>\n",
       "      <td>2018</td>\n",
       "      <td>302.1</td>\n",
       "      <td>60483973</td>\n",
       "      <td>26700</td>\n",
       "      <td>206</td>\n",
       "      <td>707</td>\n",
       "      <td>3310</td>\n",
       "      <td>55</td>\n",
       "    </tr>\n",
       "    <tr>\n",
       "      <th>4</th>\n",
       "      <td>Cyprus</td>\n",
       "      <td>2018</td>\n",
       "      <td>9.3</td>\n",
       "      <td>864236</td>\n",
       "      <td>23300</td>\n",
       "      <td>128</td>\n",
       "      <td>726</td>\n",
       "      <td>49</td>\n",
       "      <td>57</td>\n",
       "    </tr>\n",
       "    <tr>\n",
       "      <th>21</th>\n",
       "      <td>Portugal</td>\n",
       "      <td>2018</td>\n",
       "      <td>92.2</td>\n",
       "      <td>10291027</td>\n",
       "      <td>17900</td>\n",
       "      <td>112</td>\n",
       "      <td>479</td>\n",
       "      <td>606</td>\n",
       "      <td>59</td>\n",
       "    </tr>\n",
       "    <tr>\n",
       "      <th>17</th>\n",
       "      <td>Luxembourg</td>\n",
       "      <td>2018</td>\n",
       "      <td>2.6</td>\n",
       "      <td>602005</td>\n",
       "      <td>80800</td>\n",
       "      <td>245</td>\n",
       "      <td>740</td>\n",
       "      <td>36</td>\n",
       "      <td>60</td>\n",
       "    </tr>\n",
       "    <tr>\n",
       "      <th>16</th>\n",
       "      <td>Lithuania</td>\n",
       "      <td>2018</td>\n",
       "      <td>65.3</td>\n",
       "      <td>2808901</td>\n",
       "      <td>13300</td>\n",
       "      <td>45</td>\n",
       "      <td>501</td>\n",
       "      <td>170</td>\n",
       "      <td>61</td>\n",
       "    </tr>\n",
       "    <tr>\n",
       "      <th>5</th>\n",
       "      <td>Czechia</td>\n",
       "      <td>2018</td>\n",
       "      <td>78.9</td>\n",
       "      <td>10610055</td>\n",
       "      <td>17600</td>\n",
       "      <td>137</td>\n",
       "      <td>570</td>\n",
       "      <td>656</td>\n",
       "      <td>62</td>\n",
       "    </tr>\n",
       "    <tr>\n",
       "      <th>11</th>\n",
       "      <td>Greece</td>\n",
       "      <td>2018</td>\n",
       "      <td>132.0</td>\n",
       "      <td>10741165</td>\n",
       "      <td>17800</td>\n",
       "      <td>83</td>\n",
       "      <td>605</td>\n",
       "      <td>690</td>\n",
       "      <td>64</td>\n",
       "    </tr>\n",
       "    <tr>\n",
       "      <th>12</th>\n",
       "      <td>Hungary</td>\n",
       "      <td>2018</td>\n",
       "      <td>93.0</td>\n",
       "      <td>9778371</td>\n",
       "      <td>12500</td>\n",
       "      <td>108</td>\n",
       "      <td>394</td>\n",
       "      <td>629</td>\n",
       "      <td>64</td>\n",
       "    </tr>\n",
       "    <tr>\n",
       "      <th>20</th>\n",
       "      <td>Poland</td>\n",
       "      <td>2018</td>\n",
       "      <td>312.7</td>\n",
       "      <td>37976687</td>\n",
       "      <td>12400</td>\n",
       "      <td>124</td>\n",
       "      <td>672</td>\n",
       "      <td>2862</td>\n",
       "      <td>76</td>\n",
       "    </tr>\n",
       "    <tr>\n",
       "      <th>3</th>\n",
       "      <td>Croatia</td>\n",
       "      <td>2018</td>\n",
       "      <td>56.5</td>\n",
       "      <td>4105493</td>\n",
       "      <td>11500</td>\n",
       "      <td>74</td>\n",
       "      <td>416</td>\n",
       "      <td>317</td>\n",
       "      <td>77</td>\n",
       "    </tr>\n",
       "    <tr>\n",
       "      <th>15</th>\n",
       "      <td>Latvia</td>\n",
       "      <td>2018</td>\n",
       "      <td>64.6</td>\n",
       "      <td>1934379</td>\n",
       "      <td>12300</td>\n",
       "      <td>31</td>\n",
       "      <td>387</td>\n",
       "      <td>143</td>\n",
       "      <td>78</td>\n",
       "    </tr>\n",
       "    <tr>\n",
       "      <th>2</th>\n",
       "      <td>Bulgaria</td>\n",
       "      <td>2018</td>\n",
       "      <td>111.0</td>\n",
       "      <td>7050034</td>\n",
       "      <td>6500</td>\n",
       "      <td>65</td>\n",
       "      <td>516</td>\n",
       "      <td>611</td>\n",
       "      <td>88</td>\n",
       "    </tr>\n",
       "    <tr>\n",
       "      <th>22</th>\n",
       "      <td>Romania</td>\n",
       "      <td>2018</td>\n",
       "      <td>238.4</td>\n",
       "      <td>19530631</td>\n",
       "      <td>8700</td>\n",
       "      <td>85</td>\n",
       "      <td>329</td>\n",
       "      <td>1867</td>\n",
       "      <td>96</td>\n",
       "    </tr>\n",
       "  </tbody>\n",
       "</table>\n",
       "</div>"
      ],
      "text/plain": [
       "           Country  Year  Area (thousands of km)  Population  GDP per capita  \\\n",
       "27  United Kingdom  2018                   248.5    66273576           32400   \n",
       "6          Denmark  2018                    42.9     5781190           47600   \n",
       "19     Netherlands  2018                    41.5    17181084           41500   \n",
       "13         Ireland  2018                    69.8     4830392           59400   \n",
       "26          Sweden  2018                   438.6    10120242           43300   \n",
       "18           Malta  2018                     0.3      475701           21600   \n",
       "25           Spain  2018                   506.0    46658447           25000   \n",
       "10         Germany  2018                   357.3    82792351           35900   \n",
       "8          Finland  2018                   338.4     5513130           36600   \n",
       "24        Slovenia  2018                    20.3     2066880           20200   \n",
       "0          Austria  2018                    83.9     8822267           38000   \n",
       "23        Slovakia  2018                    49.0     5443120           15600   \n",
       "9           France  2018                   632.8    66926166           32800   \n",
       "28     EU 28 Total  2018                  4463.4   512379225           28200   \n",
       "7          Estonia  2018                    45.2     1319133           15100   \n",
       "1          Belgium  2018                    30.5    11398589           35300   \n",
       "14           Italy  2018                   302.1    60483973           26700   \n",
       "4           Cyprus  2018                     9.3      864236           23300   \n",
       "21        Portugal  2018                    92.2    10291027           17900   \n",
       "17      Luxembourg  2018                     2.6      602005           80800   \n",
       "16       Lithuania  2018                    65.3     2808901           13300   \n",
       "5          Czechia  2018                    78.9    10610055           17600   \n",
       "11          Greece  2018                   132.0    10741165           17800   \n",
       "12         Hungary  2018                    93.0     9778371           12500   \n",
       "20          Poland  2018                   312.7    37976687           12400   \n",
       "3          Croatia  2018                    56.5     4105493           11500   \n",
       "15          Latvia  2018                    64.6     1934379           12300   \n",
       "2         Bulgaria  2018                   111.0     7050034            6500   \n",
       "22         Romania  2018                   238.4    19530631            8700   \n",
       "\n",
       "    Population density (inhabitants per km2)  Vehicle ownership  \\\n",
       "27                                       273                544   \n",
       "6                                        137                508   \n",
       "19                                       508                543   \n",
       "13                                        70                525   \n",
       "26                                        25                542   \n",
       "18                                      1462                726   \n",
       "25                                        93                611   \n",
       "10                                       237                610   \n",
       "8                                         18                732   \n",
       "24                                       103                587   \n",
       "0                                        107                665   \n",
       "23                                       113                455   \n",
       "9                                        123                590   \n",
       "28                                       121                587   \n",
       "7                                         30                620   \n",
       "1                                        376                585   \n",
       "14                                       206                707   \n",
       "4                                        128                726   \n",
       "21                                       112                479   \n",
       "17                                       245                740   \n",
       "16                                        45                501   \n",
       "5                                        137                570   \n",
       "11                                        83                605   \n",
       "12                                       108                394   \n",
       "20                                       124                672   \n",
       "3                                         74                416   \n",
       "15                                        31                387   \n",
       "2                                         65                516   \n",
       "22                                        85                329   \n",
       "\n",
       "    Total Road Deaths  Road deaths per Million Inhabitants  \n",
       "27               1825                                   28  \n",
       "6                 175                                   30  \n",
       "19                678                                   31  \n",
       "13                146                                   31  \n",
       "26                324                                   32  \n",
       "18                 18                                   38  \n",
       "25               1806                                   39  \n",
       "10               3177                                   39  \n",
       "8                 225                                   43  \n",
       "24                 91                                   44  \n",
       "0                 409                                   45  \n",
       "23                229                                   46  \n",
       "9                3265                                   48  \n",
       "28              25249                                   49  \n",
       "7                  67                                   51  \n",
       "1                 590                                   52  \n",
       "14               3310                                   55  \n",
       "4                  49                                   57  \n",
       "21                606                                   59  \n",
       "17                 36                                   60  \n",
       "16                170                                   61  \n",
       "5                 656                                   62  \n",
       "11                690                                   64  \n",
       "12                629                                   64  \n",
       "20               2862                                   76  \n",
       "3                 317                                   77  \n",
       "15                143                                   78  \n",
       "2                 611                                   88  \n",
       "22               1867                                   96  "
      ]
     },
     "execution_count": 11,
     "metadata": {},
     "output_type": "execute_result"
    }
   ],
   "source": [
    "# All the data are strings, so I need to do one preprocessing step more.\n",
    "# Every column except Area and Country are integers. Area is float\n",
    "\n",
    "df[['Year','Population','GDP per capita','Population density (inhabitants per km2)','Vehicle ownership','Total Road Deaths','Road deaths per Million Inhabitants']] = df[['Year','Population','GDP per capita','Population density (inhabitants per km2)','Vehicle ownership','Total Road Deaths','Road deaths per Million Inhabitants']].astype(int) \n",
    "df['Area (thousands of km)'] = df['Area (thousands of km)'].astype(float)\n",
    "df"
   ]
  },
  {
   "cell_type": "markdown",
   "id": "4f442bdc",
   "metadata": {},
   "source": [
    "# Some visualizations"
   ]
  },
  {
   "cell_type": "markdown",
   "id": "96a9d50f",
   "metadata": {},
   "source": [
    "Let's show a boxplot. Here, we can see extreme values are 17000 and 60000. Additionaly, we can see that most of GDP per capita is located between 15000 and 37000 aprox."
   ]
  },
  {
   "cell_type": "code",
   "execution_count": 12,
   "id": "e25a4cea",
   "metadata": {
    "scrolled": true
   },
   "outputs": [
    {
     "data": {
      "text/plain": [
       "<AxesSubplot:xlabel='GDP per capita'>"
      ]
     },
     "execution_count": 12,
     "metadata": {},
     "output_type": "execute_result"
    },
    {
     "data": {
      "image/png": "[encoded data removed]",
      "text/plain": [
       "<Figure size 1440x1440 with 1 Axes>"
      ]
     },
     "metadata": {
      "needs_background": "light"
     },
     "output_type": "display_data"
    }
   ],
   "source": [
    "sns.boxplot(x=df['GDP per capita'])"
   ]
  },
  {
   "cell_type": "markdown",
   "id": "09f8f27a",
   "metadata": {},
   "source": [
    "These are main statistics for each attribute. We print count, mean, std, min and percentiles\n",
    "- Count shows 29, because this is the number of countries we are displaying\n",
    "- We can see that there is a huge difference between percentile 75 and max. So, there are not too many countries that have a higher GDP per capita than 35900\n",
    "- STD in Vehicle ownership is 109.154216. This means that there is a significant difference between countries where inhabitants can afford so many vehicles and countries where they cannot."
   ]
  },
  {
   "cell_type": "code",
   "execution_count": 13,
   "id": "152306aa",
   "metadata": {
    "scrolled": true
   },
   "outputs": [
    {
     "data": {
      "text/html": [
       "<div>\n",
       "<style scoped>\n",
       "    .dataframe tbody tr th:only-of-type {\n",
       "        vertical-align: middle;\n",
       "    }\n",
       "\n",
       "    .dataframe tbody tr th {\n",
       "        vertical-align: top;\n",
       "    }\n",
       "\n",
       "    .dataframe thead th {\n",
       "        text-align: right;\n",
       "    }\n",
       "</style>\n",
       "<table border=\"1\" class=\"dataframe\">\n",
       "  <thead>\n",
       "    <tr style=\"text-align: right;\">\n",
       "      <th></th>\n",
       "      <th>Year</th>\n",
       "      <th>Area (thousands of km)</th>\n",
       "      <th>Population</th>\n",
       "      <th>GDP per capita</th>\n",
       "      <th>Population density (inhabitants per km2)</th>\n",
       "      <th>Vehicle ownership</th>\n",
       "      <th>Total Road Deaths</th>\n",
       "      <th>Road deaths per Million Inhabitants</th>\n",
       "    </tr>\n",
       "  </thead>\n",
       "  <tbody>\n",
       "    <tr>\n",
       "      <th>count</th>\n",
       "      <td>29.0</td>\n",
       "      <td>29.000000</td>\n",
       "      <td>2.900000e+01</td>\n",
       "      <td>29.000000</td>\n",
       "      <td>29.000000</td>\n",
       "      <td>29.000000</td>\n",
       "      <td>29.000000</td>\n",
       "      <td>29.000000</td>\n",
       "    </tr>\n",
       "    <tr>\n",
       "      <th>mean</th>\n",
       "      <td>2018.0</td>\n",
       "      <td>307.827586</td>\n",
       "      <td>3.533650e+07</td>\n",
       "      <td>27234.482759</td>\n",
       "      <td>180.655172</td>\n",
       "      <td>568.000000</td>\n",
       "      <td>1731.724138</td>\n",
       "      <td>53.206897</td>\n",
       "    </tr>\n",
       "    <tr>\n",
       "      <th>std</th>\n",
       "      <td>0.0</td>\n",
       "      <td>816.322722</td>\n",
       "      <td>9.466918e+07</td>\n",
       "      <td>16595.551811</td>\n",
       "      <td>268.852891</td>\n",
       "      <td>109.154216</td>\n",
       "      <td>4644.381297</td>\n",
       "      <td>17.742965</td>\n",
       "    </tr>\n",
       "    <tr>\n",
       "      <th>min</th>\n",
       "      <td>2018.0</td>\n",
       "      <td>0.300000</td>\n",
       "      <td>4.757010e+05</td>\n",
       "      <td>6500.000000</td>\n",
       "      <td>18.000000</td>\n",
       "      <td>329.000000</td>\n",
       "      <td>18.000000</td>\n",
       "      <td>28.000000</td>\n",
       "    </tr>\n",
       "    <tr>\n",
       "      <th>25%</th>\n",
       "      <td>2018.0</td>\n",
       "      <td>45.200000</td>\n",
       "      <td>4.105493e+06</td>\n",
       "      <td>15100.000000</td>\n",
       "      <td>74.000000</td>\n",
       "      <td>508.000000</td>\n",
       "      <td>170.000000</td>\n",
       "      <td>39.000000</td>\n",
       "    </tr>\n",
       "    <tr>\n",
       "      <th>50%</th>\n",
       "      <td>2018.0</td>\n",
       "      <td>83.900000</td>\n",
       "      <td>9.778371e+06</td>\n",
       "      <td>23300.000000</td>\n",
       "      <td>112.000000</td>\n",
       "      <td>585.000000</td>\n",
       "      <td>590.000000</td>\n",
       "      <td>51.000000</td>\n",
       "    </tr>\n",
       "    <tr>\n",
       "      <th>75%</th>\n",
       "      <td>2018.0</td>\n",
       "      <td>302.100000</td>\n",
       "      <td>1.953063e+07</td>\n",
       "      <td>35900.000000</td>\n",
       "      <td>137.000000</td>\n",
       "      <td>620.000000</td>\n",
       "      <td>1806.000000</td>\n",
       "      <td>62.000000</td>\n",
       "    </tr>\n",
       "    <tr>\n",
       "      <th>max</th>\n",
       "      <td>2018.0</td>\n",
       "      <td>4463.400000</td>\n",
       "      <td>5.123792e+08</td>\n",
       "      <td>80800.000000</td>\n",
       "      <td>1462.000000</td>\n",
       "      <td>740.000000</td>\n",
       "      <td>25249.000000</td>\n",
       "      <td>96.000000</td>\n",
       "    </tr>\n",
       "  </tbody>\n",
       "</table>\n",
       "</div>"
      ],
      "text/plain": [
       "         Year  Area (thousands of km)    Population  GDP per capita  \\\n",
       "count    29.0               29.000000  2.900000e+01       29.000000   \n",
       "mean   2018.0              307.827586  3.533650e+07    27234.482759   \n",
       "std       0.0              816.322722  9.466918e+07    16595.551811   \n",
       "min    2018.0                0.300000  4.757010e+05     6500.000000   \n",
       "25%    2018.0               45.200000  4.105493e+06    15100.000000   \n",
       "50%    2018.0               83.900000  9.778371e+06    23300.000000   \n",
       "75%    2018.0              302.100000  1.953063e+07    35900.000000   \n",
       "max    2018.0             4463.400000  5.123792e+08    80800.000000   \n",
       "\n",
       "       Population density (inhabitants per km2)  Vehicle ownership  \\\n",
       "count                                 29.000000          29.000000   \n",
       "mean                                 180.655172         568.000000   \n",
       "std                                  268.852891         109.154216   \n",
       "min                                   18.000000         329.000000   \n",
       "25%                                   74.000000         508.000000   \n",
       "50%                                  112.000000         585.000000   \n",
       "75%                                  137.000000         620.000000   \n",
       "max                                 1462.000000         740.000000   \n",
       "\n",
       "       Total Road Deaths  Road deaths per Million Inhabitants  \n",
       "count          29.000000                            29.000000  \n",
       "mean         1731.724138                            53.206897  \n",
       "std          4644.381297                            17.742965  \n",
       "min            18.000000                            28.000000  \n",
       "25%           170.000000                            39.000000  \n",
       "50%           590.000000                            51.000000  \n",
       "75%          1806.000000                            62.000000  \n",
       "max         25249.000000                            96.000000  "
      ]
     },
     "execution_count": 13,
     "metadata": {},
     "output_type": "execute_result"
    }
   ],
   "source": [
    "df.describe()"
   ]
  },
  {
   "cell_type": "markdown",
   "id": "b0f08383",
   "metadata": {},
   "source": [
    "Let's display some histograms to see where values are ranged"
   ]
  },
  {
   "cell_type": "code",
   "execution_count": 14,
   "id": "edd6956e",
   "metadata": {
    "scrolled": true
   },
   "outputs": [
    {
     "data": {
      "text/plain": [
       "array([[<AxesSubplot:title={'center':'Year'}>,\n",
       "        <AxesSubplot:title={'center':'Area (thousands of km)'}>,\n",
       "        <AxesSubplot:title={'center':'Population'}>],\n",
       "       [<AxesSubplot:title={'center':'GDP per capita'}>,\n",
       "        <AxesSubplot:title={'center':'Population density (inhabitants per km2)'}>,\n",
       "        <AxesSubplot:title={'center':'Vehicle ownership'}>],\n",
       "       [<AxesSubplot:title={'center':'Total Road Deaths'}>,\n",
       "        <AxesSubplot:title={'center':'Road deaths per Million Inhabitants'}>,\n",
       "        <AxesSubplot:>]], dtype=object)"
      ]
     },
     "execution_count": 14,
     "metadata": {},
     "output_type": "execute_result"
    },
    {
     "data": {
      "image/png": "[encoded data removed]",
      "text/plain": [
       "<Figure size 2088x1080 with 9 Axes>"
      ]
     },
     "metadata": {
      "needs_background": "light"
     },
     "output_type": "display_data"
    }
   ],
   "source": [
    "df.hist(bins=50,figsize=(29,15))"
   ]
  },
  {
   "cell_type": "markdown",
   "id": "ae026127",
   "metadata": {},
   "source": [
    "Here I plot a scatter plot between Country and GDP per capita. We can analyze it to know if countries (for instance, located in Europe, Asia, or America) are closer according to its continent."
   ]
  },
  {
   "cell_type": "code",
   "execution_count": 15,
   "id": "fd181bf8",
   "metadata": {
    "scrolled": true
   },
   "outputs": [
    {
     "data": {
      "text/plain": [
       "<AxesSubplot:xlabel='Country', ylabel='GDP per capita'>"
      ]
     },
     "execution_count": 15,
     "metadata": {},
     "output_type": "execute_result"
    },
    {
     "data": {
      "image/png": "[encoded data removed]",
      "text/plain": [
       "<Figure size 1440x1440 with 1 Axes>"
      ]
     },
     "metadata": {
      "needs_background": "light"
     },
     "output_type": "display_data"
    }
   ],
   "source": [
    "df.plot(kind=\"scatter\",x='Country',y='GDP per capita')"
   ]
  },
  {
   "cell_type": "markdown",
   "id": "26d9aef8",
   "metadata": {},
   "source": [
    "In this plot, we could think if there is a relation between higher population and higher total road deaths, which is probably logic. A regression model could predict how many total road eaths would be in a different country according to its popoulation."
   ]
  },
  {
   "cell_type": "code",
   "execution_count": 16,
   "id": "67b76a69",
   "metadata": {
    "scrolled": false
   },
   "outputs": [
    {
     "data": {
      "text/plain": [
       "<AxesSubplot:xlabel='Population', ylabel='Total Road Deaths'>"
      ]
     },
     "execution_count": 16,
     "metadata": {},
     "output_type": "execute_result"
    },
    {
     "data": {
      "image/png": "[encoded data removed]",
      "text/plain": [
       "<Figure size 1440x1440 with 1 Axes>"
      ]
     },
     "metadata": {
      "needs_background": "light"
     },
     "output_type": "display_data"
    }
   ],
   "source": [
    "df.plot(kind=\"scatter\",x='Population',y='Total Road Deaths')"
   ]
  },
  {
   "cell_type": "markdown",
   "id": "84845a3d",
   "metadata": {},
   "source": [
    "# Save data into csv"
   ]
  },
  {
   "cell_type": "code",
   "execution_count": 17,
   "id": "edd1f363",
   "metadata": {},
   "outputs": [],
   "source": [
    "df.to_csv('data.csv')"
   ]
  },
  {
   "cell_type": "code",
   "execution_count": null,
   "id": "eb964c78",
   "metadata": {},
   "outputs": [],
   "source": []
  }
 ],
 "metadata": {
  "kernelspec": {
   "display_name": "Python 3",
   "language": "python",
   "name": "python3"
  },
  "language_info": {
   "codemirror_mode": {
    "name": "ipython",
    "version": 3
   },
   "file_extension": ".py",
   "mimetype": "text/x-python",
   "name": "python",
   "nbconvert_exporter": "python",
   "pygments_lexer": "ipython3",
   "version": "3.9.5"
  }
 },
 "nbformat": 4,
 "nbformat_minor": 5
}
